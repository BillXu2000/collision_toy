{
 "cells": [
  {
   "cell_type": "code",
   "execution_count": 21,
   "metadata": {},
   "outputs": [],
   "source": [
    "from sympy import *\n",
    "from IPython.display import display\n",
    "x, a = symbols('x a')\n",
    "f = Function('f')\n",
    "g = Function('g')\n",
    "n = Function('n')\n",
    "init_printing()"
   ]
  },
  {
   "cell_type": "code",
   "execution_count": 31,
   "metadata": {},
   "outputs": [
    {
     "data": {
      "image/png": "[encoded data removed]",
      "text/latex": [
       "$\\displaystyle - \\left(- a + x\\right)^{2} \\log{\\left(\\frac{x}{a} \\right)}$"
      ],
      "text/plain": [
       "         2    ⎛x⎞\n",
       "-(-a + x) ⋅log⎜─⎟\n",
       "              ⎝a⎠"
      ]
     },
     "metadata": {},
     "output_type": "display_data"
    },
    {
     "data": {
      "image/png": "[encoded data removed]",
      "text/latex": [
       "$\\displaystyle \\frac{\\left(a - x\\right) \\left(- a + 2 x \\log{\\left(\\frac{x}{a} \\right)} + x\\right)}{x}$"
      ],
      "text/plain": [
       "        ⎛            ⎛x⎞    ⎞\n",
       "(a - x)⋅⎜-a + 2⋅x⋅log⎜─⎟ + x⎟\n",
       "        ⎝            ⎝a⎠    ⎠\n",
       "─────────────────────────────\n",
       "              x              "
      ]
     },
     "metadata": {},
     "output_type": "display_data"
    },
    {
     "data": {
      "image/png": "[encoded data removed]",
      "text/latex": [
       "$\\displaystyle \\frac{a^{2}}{x^{2}} + \\frac{2 a}{x} - 2 \\log{\\left(\\frac{x}{a} \\right)} - 3$"
      ],
      "text/plain": [
       " 2                     \n",
       "a    2⋅a        ⎛x⎞    \n",
       "── + ─── - 2⋅log⎜─⎟ - 3\n",
       " 2    x         ⎝a⎠    \n",
       "x                      "
      ]
     },
     "execution_count": 31,
     "metadata": {},
     "output_type": "execute_result"
    }
   ],
   "source": [
    "b2 = -(x - a)**1*ln(x/a)\n",
    "# b2\n",
    "b2_d = simplify(diff(b2, x))\n",
    "b2_dd = simplify(diff(b2_d, x))\n",
    "display(b2)\n",
    "display(b2_d)\n",
    "b2_dd\n"
   ]
  },
  {
   "cell_type": "code",
   "execution_count": 23,
   "metadata": {},
   "outputs": [
    {
     "data": {
      "image/png": "[encoded data removed]",
      "text/latex": [
       "$\\displaystyle - \\left(- a + x\\right)^{2} \\log{\\left(\\frac{x}{a} \\right)}$"
      ],
      "text/plain": [
       "         2    ⎛x⎞\n",
       "-(-a + x) ⋅log⎜─⎟\n",
       "              ⎝a⎠"
      ]
     },
     "execution_count": 23,
     "metadata": {},
     "output_type": "execute_result"
    }
   ],
   "source": [
    "b2"
   ]
  },
  {
   "cell_type": "code",
   "execution_count": 24,
   "metadata": {},
   "outputs": [
    {
     "data": {
      "image/png": "[encoded data removed]",
      "text/latex": [
       "$\\displaystyle \\frac{\\left(a - x\\right) \\left(- a + 2 x \\log{\\left(\\frac{x}{a} \\right)} + x\\right)}{x}$"
      ],
      "text/plain": [
       "        ⎛            ⎛x⎞    ⎞\n",
       "(a - x)⋅⎜-a + 2⋅x⋅log⎜─⎟ + x⎟\n",
       "        ⎝            ⎝a⎠    ⎠\n",
       "─────────────────────────────\n",
       "              x              "
      ]
     },
     "execution_count": 24,
     "metadata": {},
     "output_type": "execute_result"
    }
   ],
   "source": [
    "b2_d"
   ]
  }
 ],
 "metadata": {
  "kernelspec": {
   "display_name": "Python 3",
   "language": "python",
   "name": "python3"
  },
  "language_info": {
   "codemirror_mode": {
    "name": "ipython",
    "version": 3
   },
   "file_extension": ".py",
   "mimetype": "text/x-python",
   "name": "python",
   "nbconvert_exporter": "python",
   "pygments_lexer": "ipython3",
   "version": "3.10.12"
  }
 },
 "nbformat": 4,
 "nbformat_minor": 2
}
