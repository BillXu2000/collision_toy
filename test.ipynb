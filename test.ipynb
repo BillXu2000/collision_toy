{
 "cells": [
  {
   "cell_type": "code",
   "execution_count": 71,
   "metadata": {},
   "outputs": [],
   "source": [
    "from sympy import *\n",
    "x, a = symbols('x a')\n",
    "f = Function('f')\n",
    "g = Function('g')\n",
    "n = Function('n')"
   ]
  },
  {
   "cell_type": "code",
   "execution_count": 72,
   "metadata": {},
   "outputs": [
    {
     "data": {
      "text/latex": [
       "$\\displaystyle \\frac{x}{\\sqrt{a + x^{2}}}$"
      ],
      "text/plain": [
       "x/sqrt(a + x**2)"
      ]
     },
     "execution_count": 72,
     "metadata": {},
     "output_type": "execute_result"
    }
   ],
   "source": [
    "simplify(diff(sqrt(x**2 + a), x))"
   ]
  },
  {
   "cell_type": "code",
   "execution_count": 73,
   "metadata": {},
   "outputs": [
    {
     "data": {
      "text/latex": [
       "$\\displaystyle \\frac{a x^{2}}{\\left|{x}\\right| \\left(\\int \\frac{x}{\\left|{x}\\right|}\\, dx\\right)^{2}} - \\frac{a}{\\int \\frac{x}{\\left|{x}\\right|}\\, dx} + 1$"
      ],
      "text/plain": [
       "a*x**2/(Abs(x)*Integral(x/Abs(x), x)**2) - a/Integral(x/Abs(x), x) + 1"
      ]
     },
     "execution_count": 73,
     "metadata": {},
     "output_type": "execute_result"
    }
   ],
   "source": [
    "norm = integrate(x/abs(x), x)\n",
    "simplify(diff((norm - a) * (x / norm), x))"
   ]
  },
  {
   "cell_type": "code",
   "execution_count": 74,
   "metadata": {},
   "outputs": [
    {
     "data": {
      "text/latex": [
       "$\\displaystyle - \\frac{f{\\left(x \\right)} \\frac{d}{d x} g{\\left(x \\right)}}{g^{2}{\\left(x \\right)}} + \\frac{\\frac{d}{d x} f{\\left(x \\right)}}{g{\\left(x \\right)}}$"
      ],
      "text/plain": [
       "-f(x)*Derivative(g(x), x)/g(x)**2 + Derivative(f(x), x)/g(x)"
      ]
     },
     "execution_count": 74,
     "metadata": {},
     "output_type": "execute_result"
    }
   ],
   "source": [
    "diff(f(x)/g(x), x)"
   ]
  },
  {
   "cell_type": "code",
   "execution_count": 77,
   "metadata": {},
   "outputs": [
    {
     "data": {
      "text/latex": [
       "$\\displaystyle - \\frac{x^{2} \\left(- a + \\int \\frac{x}{n{\\left(x \\right)}}\\, dx\\right)}{n{\\left(x \\right)} \\left(\\int \\frac{x}{n{\\left(x \\right)}}\\, dx\\right)^{2}} + \\frac{x^{2}}{n{\\left(x \\right)} \\int \\frac{x}{n{\\left(x \\right)}}\\, dx} + \\frac{- a + \\int \\frac{x}{n{\\left(x \\right)}}\\, dx}{\\int \\frac{x}{n{\\left(x \\right)}}\\, dx}$"
      ],
      "text/plain": [
       "-x**2*(-a + Integral(x/n(x), x))/(n(x)*Integral(x/n(x), x)**2) + x**2/(n(x)*Integral(x/n(x), x)) + (-a + Integral(x/n(x), x))/Integral(x/n(x), x)"
      ]
     },
     "execution_count": 77,
     "metadata": {},
     "output_type": "execute_result"
    }
   ],
   "source": [
    "def no(x):\n",
    "    return integrate(x / n(x), x)\n",
    "diff((no(x) - a) * x / no(x), x)"
   ]
  }
 ],
 "metadata": {
  "kernelspec": {
   "display_name": "Python 3",
   "language": "python",
   "name": "python3"
  },
  "language_info": {
   "codemirror_mode": {
    "name": "ipython",
    "version": 3
   },
   "file_extension": ".py",
   "mimetype": "text/x-python",
   "name": "python",
   "nbconvert_exporter": "python",
   "pygments_lexer": "ipython3",
   "version": "3.10.12"
  }
 },
 "nbformat": 4,
 "nbformat_minor": 2
}
